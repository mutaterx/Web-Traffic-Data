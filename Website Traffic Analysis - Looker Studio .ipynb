{
 "cells": [
  {
   "cell_type": "markdown",
   "id": "cd39d4f3",
   "metadata": {},
   "source": [
    "# The notebook will include the following sections:\n",
    "\n",
    "The goal is to create a sample dataset for a data visualization project on looker studio. \n",
    "The data is fictif. \n",
    "\n",
    "## I. Dataset cleaning\n",
    "- Uploading the dataset\n",
    "- Converting column types\n",
    "- Renaming columns\n",
    "- Removing columns\n",
    "\n",
    "## II. Dataset completion\n",
    "- Adding columns\n",
    "- Generating randomized values to fill the columns\n",
    "- Exporting the dataset as a csv file"
   ]
  },
  {
   "cell_type": "markdown",
   "id": "2c0c7051",
   "metadata": {},
   "source": [
    "## <span style=\"color:blue\"> I. Dataset cleaning </span>   "
   ]
  },
  {
   "cell_type": "markdown",
   "id": "9d49d819",
   "metadata": {},
   "source": [
    " <span style=\"color:red\">Uploading the dataset  </span>  "
   ]
  },
  {
   "cell_type": "code",
   "execution_count": 73,
   "id": "5d4dc45e",
   "metadata": {},
   "outputs": [
    {
     "data": {
      "text/html": [
       "<div>\n",
       "<style scoped>\n",
       "    .dataframe tbody tr th:only-of-type {\n",
       "        vertical-align: middle;\n",
       "    }\n",
       "\n",
       "    .dataframe tbody tr th {\n",
       "        vertical-align: top;\n",
       "    }\n",
       "\n",
       "    .dataframe thead th {\n",
       "        text-align: right;\n",
       "    }\n",
       "</style>\n",
       "<table border=\"1\" class=\"dataframe\">\n",
       "  <thead>\n",
       "    <tr style=\"text-align: right;\">\n",
       "      <th></th>\n",
       "      <th>Row</th>\n",
       "      <th>Day</th>\n",
       "      <th>Day.Of.Week</th>\n",
       "      <th>Date</th>\n",
       "      <th>Page.Loads</th>\n",
       "      <th>Unique.Visits</th>\n",
       "      <th>First.Time.Visits</th>\n",
       "      <th>Returning.Visits</th>\n",
       "    </tr>\n",
       "  </thead>\n",
       "  <tbody>\n",
       "    <tr>\n",
       "      <th>0</th>\n",
       "      <td>1</td>\n",
       "      <td>Sunday</td>\n",
       "      <td>1</td>\n",
       "      <td>9/14/2014</td>\n",
       "      <td>2,146</td>\n",
       "      <td>1,582</td>\n",
       "      <td>1,430</td>\n",
       "      <td>152</td>\n",
       "    </tr>\n",
       "    <tr>\n",
       "      <th>1</th>\n",
       "      <td>2</td>\n",
       "      <td>Monday</td>\n",
       "      <td>2</td>\n",
       "      <td>9/15/2014</td>\n",
       "      <td>3,621</td>\n",
       "      <td>2,528</td>\n",
       "      <td>2,297</td>\n",
       "      <td>231</td>\n",
       "    </tr>\n",
       "    <tr>\n",
       "      <th>2</th>\n",
       "      <td>3</td>\n",
       "      <td>Tuesday</td>\n",
       "      <td>3</td>\n",
       "      <td>9/16/2014</td>\n",
       "      <td>3,698</td>\n",
       "      <td>2,630</td>\n",
       "      <td>2,352</td>\n",
       "      <td>278</td>\n",
       "    </tr>\n",
       "    <tr>\n",
       "      <th>3</th>\n",
       "      <td>4</td>\n",
       "      <td>Wednesday</td>\n",
       "      <td>4</td>\n",
       "      <td>9/17/2014</td>\n",
       "      <td>3,667</td>\n",
       "      <td>2,614</td>\n",
       "      <td>2,327</td>\n",
       "      <td>287</td>\n",
       "    </tr>\n",
       "    <tr>\n",
       "      <th>4</th>\n",
       "      <td>5</td>\n",
       "      <td>Thursday</td>\n",
       "      <td>5</td>\n",
       "      <td>9/18/2014</td>\n",
       "      <td>3,316</td>\n",
       "      <td>2,366</td>\n",
       "      <td>2,130</td>\n",
       "      <td>236</td>\n",
       "    </tr>\n",
       "    <tr>\n",
       "      <th>...</th>\n",
       "      <td>...</td>\n",
       "      <td>...</td>\n",
       "      <td>...</td>\n",
       "      <td>...</td>\n",
       "      <td>...</td>\n",
       "      <td>...</td>\n",
       "      <td>...</td>\n",
       "      <td>...</td>\n",
       "    </tr>\n",
       "    <tr>\n",
       "      <th>2162</th>\n",
       "      <td>2163</td>\n",
       "      <td>Saturday</td>\n",
       "      <td>7</td>\n",
       "      <td>8/15/2020</td>\n",
       "      <td>2,221</td>\n",
       "      <td>1,696</td>\n",
       "      <td>1,373</td>\n",
       "      <td>323</td>\n",
       "    </tr>\n",
       "    <tr>\n",
       "      <th>2163</th>\n",
       "      <td>2164</td>\n",
       "      <td>Sunday</td>\n",
       "      <td>1</td>\n",
       "      <td>8/16/2020</td>\n",
       "      <td>2,724</td>\n",
       "      <td>2,037</td>\n",
       "      <td>1,686</td>\n",
       "      <td>351</td>\n",
       "    </tr>\n",
       "    <tr>\n",
       "      <th>2164</th>\n",
       "      <td>2165</td>\n",
       "      <td>Monday</td>\n",
       "      <td>2</td>\n",
       "      <td>8/17/2020</td>\n",
       "      <td>3,456</td>\n",
       "      <td>2,638</td>\n",
       "      <td>2,181</td>\n",
       "      <td>457</td>\n",
       "    </tr>\n",
       "    <tr>\n",
       "      <th>2165</th>\n",
       "      <td>2166</td>\n",
       "      <td>Tuesday</td>\n",
       "      <td>3</td>\n",
       "      <td>8/18/2020</td>\n",
       "      <td>3,581</td>\n",
       "      <td>2,683</td>\n",
       "      <td>2,184</td>\n",
       "      <td>499</td>\n",
       "    </tr>\n",
       "    <tr>\n",
       "      <th>2166</th>\n",
       "      <td>2167</td>\n",
       "      <td>Wednesday</td>\n",
       "      <td>4</td>\n",
       "      <td>8/19/2020</td>\n",
       "      <td>2,064</td>\n",
       "      <td>1,564</td>\n",
       "      <td>1,297</td>\n",
       "      <td>267</td>\n",
       "    </tr>\n",
       "  </tbody>\n",
       "</table>\n",
       "<p>2167 rows × 8 columns</p>\n",
       "</div>"
      ],
      "text/plain": [
       "       Row        Day  Day.Of.Week       Date Page.Loads Unique.Visits  \\\n",
       "0        1     Sunday            1  9/14/2014      2,146         1,582   \n",
       "1        2     Monday            2  9/15/2014      3,621         2,528   \n",
       "2        3    Tuesday            3  9/16/2014      3,698         2,630   \n",
       "3        4  Wednesday            4  9/17/2014      3,667         2,614   \n",
       "4        5   Thursday            5  9/18/2014      3,316         2,366   \n",
       "...    ...        ...          ...        ...        ...           ...   \n",
       "2162  2163   Saturday            7  8/15/2020      2,221         1,696   \n",
       "2163  2164     Sunday            1  8/16/2020      2,724         2,037   \n",
       "2164  2165     Monday            2  8/17/2020      3,456         2,638   \n",
       "2165  2166    Tuesday            3  8/18/2020      3,581         2,683   \n",
       "2166  2167  Wednesday            4  8/19/2020      2,064         1,564   \n",
       "\n",
       "     First.Time.Visits Returning.Visits  \n",
       "0                1,430              152  \n",
       "1                2,297              231  \n",
       "2                2,352              278  \n",
       "3                2,327              287  \n",
       "4                2,130              236  \n",
       "...                ...              ...  \n",
       "2162             1,373              323  \n",
       "2163             1,686              351  \n",
       "2164             2,181              457  \n",
       "2165             2,184              499  \n",
       "2166             1,297              267  \n",
       "\n",
       "[2167 rows x 8 columns]"
      ]
     },
     "execution_count": 73,
     "metadata": {},
     "output_type": "execute_result"
    }
   ],
   "source": [
    "import pandas as pd \n",
    "\n",
    "# Display all columns\n",
    "pd.pandas.set_option('display.max_columns', None)\n",
    "\n",
    "# Read the csv file \n",
    "df = pd.read_csv(\"downloads/website_traffic.csv\")\n",
    "df"
   ]
  },
  {
   "cell_type": "markdown",
   "id": "ed1817be",
   "metadata": {},
   "source": [
    " <span style=\"color:red\"> Converting column types  </span> "
   ]
  },
  {
   "cell_type": "code",
   "execution_count": 74,
   "id": "ca49fb8b",
   "metadata": {},
   "outputs": [],
   "source": [
    "# Convert the columns to int type \n",
    "\n",
    "# First remove the commas from the values in the \"Unique.Visits\" column and then convert to integers\n",
    "df['Page.Loads'] = df['Page.Loads'].str.replace(',', '').astype(int)\n",
    "df['Unique.Visits'] = df['Unique.Visits'].str.replace(',', '').astype(int)\n",
    "df['First.Time.Visits'] = df['First.Time.Visits'].str.replace(',', '').astype(int)\n",
    "df['Returning.Visits'] = df['Returning.Visits'].str.replace(',', '').astype(int)"
   ]
  },
  {
   "cell_type": "code",
   "execution_count": 75,
   "id": "a97a5fed",
   "metadata": {},
   "outputs": [
    {
     "data": {
      "text/plain": [
       "Row                   int64\n",
       "Day                  object\n",
       "Day.Of.Week           int64\n",
       "Date                 object\n",
       "Page.Loads            int32\n",
       "Unique.Visits         int32\n",
       "First.Time.Visits     int32\n",
       "Returning.Visits      int32\n",
       "dtype: object"
      ]
     },
     "execution_count": 75,
     "metadata": {},
     "output_type": "execute_result"
    }
   ],
   "source": [
    "# Checking the value types of the columns\n",
    "df.dtypes"
   ]
  },
  {
   "cell_type": "markdown",
   "id": "dd95d30c",
   "metadata": {},
   "source": [
    " <span style=\"color:red\"> Renaming columns  </span> "
   ]
  },
  {
   "cell_type": "code",
   "execution_count": 76,
   "id": "358cd1df",
   "metadata": {},
   "outputs": [],
   "source": [
    "# Rename the columns\n",
    "df.rename(columns={'Day': 'day'}, inplace=True)\n",
    "df.rename(columns={'Day.Of.Week': 'day_of_week'}, inplace=True)\n",
    "df.rename(columns={'Date': 'date'}, inplace=True)\n",
    "df.rename(columns={'Page.Loads': 'page_loads'}, inplace=True)\n",
    "df.rename(columns={'Unique.Visits': 'total_visits'}, inplace=True)\n",
    "df.rename(columns={'First.Time.Visits': 'unique_visits'}, inplace=True)\n",
    "df.rename(columns={'Returning.Visits': 'returning_visits '}, inplace=True)"
   ]
  },
  {
   "cell_type": "markdown",
   "id": "c49e19cd",
   "metadata": {},
   "source": [
    " <span style=\"color:red\"> Removing columns  </span> "
   ]
  },
  {
   "cell_type": "code",
   "execution_count": 77,
   "id": "d2ced25c",
   "metadata": {},
   "outputs": [],
   "source": [
    "# Drop the 'Row' column\n",
    "df.drop('Row', axis=1, inplace=True)"
   ]
  },
  {
   "cell_type": "markdown",
   "id": "e541ffb7",
   "metadata": {},
   "source": [
    "## <span style=\"color:blue\"> I. Dataset completion </span>  "
   ]
  },
  {
   "cell_type": "markdown",
   "id": "8de6c5fa",
   "metadata": {},
   "source": [
    "<span style=\"color:red\"> Adding columns </span>"
   ]
  },
  {
   "cell_type": "code",
   "execution_count": 78,
   "id": "1894bfec",
   "metadata": {},
   "outputs": [],
   "source": [
    "# Assigning the columns to the df\n",
    "# = 0 in order to fill the columns with the values 0 \n",
    "df['campagne_visits'] = 0\n",
    "df['single_page_visits'] = 0\n",
    "df['average_duration'] = 0\n",
    "df['total_actions'] = 0"
   ]
  },
  {
   "cell_type": "markdown",
   "id": "be3eb883",
   "metadata": {},
   "source": [
    "<span style=\"color:red\">Generating randomized values to fill the columns </span>"
   ]
  },
  {
   "cell_type": "code",
   "execution_count": 79,
   "id": "d3977b82",
   "metadata": {},
   "outputs": [],
   "source": [
    "import numpy as np\n",
    "\n",
    "# Generate random values for the column campagne_visits\n",
    "# Ensure the total number of visits amounts to either 1/3 or 1/4 of the total visits represented by the column total_visits\n",
    "# // 3 will divide each row of total_visits by 3 and assign that value to the campagne_visits \n",
    "# // 2 + 1 calculates the division of the two columns by 2, then adds 1 to that value\n",
    "# size=len(df) ensures that the campagne_visits will have all its rows filled \n",
    "\n",
    "# The following code will generate random integers between the value of 1/3 of 'total_visits' and the value of 1/2 of 'total_visits' for each row\n",
    "df['campagne_visits'] = np.random.randint(df['total_visits'] // 3, df['total_visits'] // 2 + 1, size=len(df))\n",
    "\n",
    "# Ensure the total number of single page visits amount to either 1/4 or 1/6 of total_visits\n",
    "df['single_page_visits'] = np.random.randint(df['total_visits'] // 6, df['total_visits'] // 4, size=len(df))\n",
    "\n",
    "# Generate random values for the 'total_actions' column\n",
    "# The range 300 and 2001 has been chosen following the analysis of the minimum and maximum values of the total_visits column\n",
    "df['total_actions'] = np.random.randint(300, 2001, size=len(df))\n"
   ]
  },
  {
   "cell_type": "code",
   "execution_count": 80,
   "id": "afd3b6d1",
   "metadata": {},
   "outputs": [],
   "source": [
    "import random\n",
    "\n",
    "# Function to generate random time between 1 minute 10 seconds and 3 minutes\n",
    "def generate_random_time():\n",
    "    minutes = random.randint(1, 2)  # Generate random minutes between 1 and 2\n",
    "    seconds = random.randint(10, 59)  # Generate random seconds between 10 and 59\n",
    "    return f'{minutes:02d}:{seconds:02d}:00'  # Format the time as HH:MM:SS\n",
    "\n",
    "# Add random values to the 'average_duration' column\n",
    "df['average_duration'] = [generate_random_time() for _ in range(len(df))]\n"
   ]
  },
  {
   "cell_type": "markdown",
   "id": "94072d06",
   "metadata": {},
   "source": [
    "<span style=\"color:red\"> Export the dataset as a csv file</span>"
   ]
  },
  {
   "cell_type": "code",
   "execution_count": 81,
   "id": "31a374d5",
   "metadata": {},
   "outputs": [],
   "source": [
    "# Export the DataFrame to a CSV file\n",
    "df.to_csv('web_traffic.csv', index=False)"
   ]
  },
  {
   "cell_type": "markdown",
   "id": "1f8aca2e",
   "metadata": {},
   "source": [
    "# To visualize the data, please direct yourself to my Looker studio projects repository on my github profile\n",
    "\n",
    "The project may be found under the title **\"Web Traffic Data Visualization\"**"
   ]
  }
 ],
 "metadata": {
  "kernelspec": {
   "display_name": "Python 3 (ipykernel)",
   "language": "python",
   "name": "python3"
  },
  "language_info": {
   "codemirror_mode": {
    "name": "ipython",
    "version": 3
   },
   "file_extension": ".py",
   "mimetype": "text/x-python",
   "name": "python",
   "nbconvert_exporter": "python",
   "pygments_lexer": "ipython3",
   "version": "3.9.12"
  }
 },
 "nbformat": 4,
 "nbformat_minor": 5
}
